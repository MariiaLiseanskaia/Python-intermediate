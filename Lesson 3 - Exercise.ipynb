{
 "cells": [
  {
   "cell_type": "markdown",
   "metadata": {},
   "source": [
    "## Exercise 1: Say Hello Function\n",
    "- Write a function that say hello to a name argument. \n",
    "- Use a default value for the name (If no name given let it be \"Human\")\n",
    "- Print the output of the function with a name given\n",
    "- Print the output of the function without a name given"
   ]
  },
  {
   "cell_type": "code",
   "execution_count": 1,
   "metadata": {},
   "outputs": [
    {
     "name": "stdout",
     "output_type": "stream",
     "text": [
      "Hello, Human\n",
      "Hello, Olivia\n"
     ]
    }
   ],
   "source": [
    "# paste your solution here:\n",
    "def hello(name = 'Human'):\n",
    "    print(f'Hello, {name}')\n",
    "\n",
    "hello()\n",
    "hello('Olivia')\n",
    "\n"
   ]
  },
  {
   "cell_type": "markdown",
   "metadata": {},
   "source": [
    "## Exercise 2: Factorial\n",
    "\n",
    "Write a function that calculate the factorial of a given number n\n",
    "- Calculate and print the factorial of 9!"
   ]
  },
  {
   "cell_type": "code",
   "execution_count": 14,
   "metadata": {},
   "outputs": [
    {
     "data": {
      "text/plain": [
       "362880"
      ]
     },
     "execution_count": 14,
     "metadata": {},
     "output_type": "execute_result"
    }
   ],
   "source": [
    "# paste your solution here:\n",
    "def factorial(number):\n",
    "    res = 1\n",
    "    for num in range(1,number+1):\n",
    "        res = res*num\n",
    "    return res\n",
    "\n",
    "\n",
    "factorial(9)\n",
    "\n"
   ]
  },
  {
   "cell_type": "markdown",
   "metadata": {},
   "source": [
    "## Exercise 3: Numeric Functions\n",
    "- Create a list of numbers [3, 1, 7, 4, 9, 2]\n",
    "- Print a count of items the list,\n",
    "- Print the smallest number and the highest number of the list\n",
    "- Print the total summary of the list items\n",
    "- Print the average of the list items\n",
    "- Print a 2 decimal rounded division of the total summary of the list items if divided by 3\n"
   ]
  },
  {
   "cell_type": "code",
   "execution_count": 8,
   "metadata": {},
   "outputs": [
    {
     "name": "stdout",
     "output_type": "stream",
     "text": [
      "6\n",
      "1\n",
      "9\n",
      "26\n",
      "4.333333333333333\n",
      "1.44\n"
     ]
    }
   ],
   "source": [
    "import numpy as np\n",
    "numbers = [3, 1, 7, 4, 9, 2]\n",
    "\n",
    "print(len(numbers))\n",
    "print(min(numbers))\n",
    "print(max(numbers))\n",
    "print(sum(numbers))\n",
    "print(np.mean(numbers))\n",
    "print(round(np.mean(numbers)/3,2))\n"
   ]
  },
  {
   "cell_type": "markdown",
   "metadata": {},
   "source": [
    "## Exercise 4: Function with random and math modules\n",
    "Create a function that generate n random integers from 1 to 19\n",
    "The function should:\n",
    "- Use the **sample** from the random and **lcm** from the math modules  \n",
    "- n parameter has a default value 10\n",
    "- Print the list of random numbers\n",
    "- Print the smallest even number (e.g. \"The smallest even number is: x\")\n",
    "- Print the largest odd number (e.g. \"The largest odd number is: x\")\n",
    "- Print the least common multiple of the smallest even and largest odd of the list\n",
    "- Calculate and print the sum of all numbers (e.g \"The sum of all numbers is: x\")"
   ]
  },
  {
   "cell_type": "code",
   "execution_count": 4,
   "metadata": {},
   "outputs": [
    {
     "name": "stdout",
     "output_type": "stream",
     "text": [
      "[1, 7, 9, 2, 16]\n",
      "1\n"
     ]
    }
   ],
   "source": [
    "# paste your solution here:\n",
    "from random import sample \n",
    "from math import lcm\n",
    "\n",
    "def randomiser(n=10):\n",
    "    x = sample(range(20),n)\n",
    "    return x\n",
    "    \n",
    "\n",
    "print(randomiser(5))\n"
   ]
  },
  {
   "cell_type": "code",
   "execution_count": null,
   "metadata": {},
   "outputs": [],
   "source": []
  }
 ],
 "metadata": {
  "kernelspec": {
   "display_name": "Python 3",
   "language": "python",
   "name": "python3"
  },
  "language_info": {
   "codemirror_mode": {
    "name": "ipython",
    "version": 3
   },
   "file_extension": ".py",
   "mimetype": "text/x-python",
   "name": "python",
   "nbconvert_exporter": "python",
   "pygments_lexer": "ipython3",
   "version": "3.11.3"
  }
 },
 "nbformat": 4,
 "nbformat_minor": 2
}
