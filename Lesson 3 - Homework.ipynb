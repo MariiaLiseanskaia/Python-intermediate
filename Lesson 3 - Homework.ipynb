{
 "cells": [
  {
   "cell_type": "markdown",
   "metadata": {},
   "source": [
    "## Exercise 1: Checking for a prime number\n",
    "\n",
    "Create a function which checks if a number is a prime number\n",
    "(divisible without residual only by itself and 2)."
   ]
  },
  {
   "cell_type": "code",
   "execution_count": 23,
   "metadata": {},
   "outputs": [
    {
     "name": "stdout",
     "output_type": "stream",
     "text": [
      "6 is not prime\n"
     ]
    }
   ],
   "source": [
    "# paste your solution here:\n",
    "def prime(n):\n",
    "     a=True\n",
    "     if n<=1:\n",
    "        print('this number not concidered')\n",
    "     else:    \n",
    "        for i in range(2,n+1):\n",
    "            if n % i == 0:\n",
    "                break\n",
    "            \n",
    "        if n == i:\n",
    "            a = False\n",
    "\n",
    "        if a:\n",
    "         print (f'{n} is not prime')\n",
    "        else:\n",
    "         print (f'{n} is prime') \n",
    "    \n",
    "\n",
    "prime(6)\n"
   ]
  },
  {
   "cell_type": "markdown",
   "metadata": {},
   "source": [
    "## Exercise 2: Functions for Iterable variables\n",
    "With a list of fruits [\"apple\", \"orange\", \"banana\", \"cherry\"]:\n",
    "- Print the list of fruits \n",
    "- Print a sorted list of fruits\n",
    "- Print a reverse sorted list of fruits \n",
    "- Create numeric keys for that list \n",
    "- Print a combined list of keys and fruits\n",
    "- Print a combine dictionary of keys and fruits\n",
    "\n",
    "Notes:\n",
    "- sorted(iterable, /, *, key=None, reverse=False)\n",
    "- zip(*iterables, strict=False)"
   ]
  },
  {
   "cell_type": "code",
   "execution_count": 35,
   "metadata": {},
   "outputs": [
    {
     "name": "stdout",
     "output_type": "stream",
     "text": [
      "['apple', 'orange', 'banana', 'cherry']\n",
      "['apple', 'banana', 'cherry', 'orange']\n",
      "['orange', 'cherry', 'banana', 'apple']\n",
      "['orange', 'cherry', 'banana', 'apple']\n",
      "[(1, 'apple'), (2, 'orange'), (3, 'banana'), (4, 'cherry')]\n",
      "{1: 'apple', 2: 'orange', 3: 'banana', 4: 'cherry'}\n"
     ]
    }
   ],
   "source": [
    "fruits = [\"apple\", \"orange\", \"banana\", \"cherry\"]\n",
    "\n",
    "# paste your solution here:\n",
    "print(fruits)\n",
    "print(sorted(fruits))\n",
    "print(sorted(fruits)[::-1])\n",
    "#or\n",
    "print(sorted(fruits, reverse=True))\n",
    "ke = list(range(1,len(fruits)+1))\n",
    "tup = list(zip(ke,fruits))\n",
    "print(tup)\n",
    "mydict = dict(enumerate(fruits, start=1))\n",
    "print (mydict)"
   ]
  },
  {
   "cell_type": "markdown",
   "metadata": {},
   "source": [
    "## Exercise 3: Functions for Iterable variables \n",
    "### List comprehensions and Filters\n",
    "\n",
    "with the name and age list variables given:\n",
    "- Print only the names that ends with \"e\"\n",
    "- create and print a name: age dictionary as dict_names\n",
    "\n",
    "with the names dictionary created, {name: age, ..}\n",
    "- print only the items that have a name that ends with \"e\" (use conditional construction of list literals)\n",
    "- print only the items that have a name that ends with \"e\" (use filter and lambda)\n",
    "- print only the items that have an age > 25 \n",
    "- print a dictionary of all items sorted by age\n",
    "\n",
    "Notes: \n",
    "- A conditional construction of list literals (i.e. List comprehensions) is using for and if clauses\n",
    "- Filter parameters are a function and an iterable: filter(function, iterable)\n"
   ]
  },
  {
   "cell_type": "code",
   "execution_count": 6,
   "metadata": {},
   "outputs": [
    {
     "name": "stdout",
     "output_type": "stream",
     "text": [
      "Alice\n",
      "Chloe\n",
      "{'Alice': 24, 'John': 32, 'Peter': 12, 'Chloe': 28}\n",
      "Alice\n",
      "Chloe\n",
      "Alice: 24\n",
      "Chloe: 28\n",
      "John\n",
      "Chloe\n",
      "{'Peter': 12, 'Alice': 24, 'Chloe': 28, 'John': 32}\n"
     ]
    }
   ],
   "source": [
    "names = ['Alice', 'John', 'Peter', 'Chloe']\n",
    "ages = [24, 32, 12, 28]\n",
    "\n",
    "# paste your solution here:\n",
    "for item in names:\n",
    "    if item[-1] == 'e':\n",
    "        print(item)\n",
    "\n",
    "\n",
    "i = 0\n",
    "dict_names = {}\n",
    "for item in names:\n",
    "     dict_names[item] = ages[i]\n",
    "     i+=1\n",
    "print(dict_names) \n",
    "\n",
    "for key, data in dict_names.items():\n",
    "    if key[-1] == 'e':\n",
    "        print(key)\n",
    "\n",
    "filtered_names = filter(lambda item: item[0][-1] == 'e', dict_names.items())\n",
    "\n",
    "# Print the filtered items\n",
    "for key, data in filtered_names:\n",
    "    print(f\"{key}: {data}\")\n",
    "\n",
    "for key, data in dict_names.items():\n",
    "    if data > 25:\n",
    "        print(key)\n",
    "\n",
    "print(dict(sorted(dict_names.items(), key=lambda item: item[1])))"
   ]
  },
  {
   "cell_type": "markdown",
   "metadata": {},
   "source": [
    "## Exercise 4: Functions for Iterable variables\n",
    "### Filter, Map and lambda\n",
    "\n",
    "With a list of numbers already given:\n",
    "- Print the numbers \n",
    "- Print only the even numbers \n",
    "- Cast all integers to floats\n",
    "- Print a list with each number to the power of 2 (squared)"
   ]
  },
  {
   "cell_type": "code",
   "execution_count": 18,
   "metadata": {},
   "outputs": [
    {
     "name": "stdout",
     "output_type": "stream",
     "text": [
      "[0, 1, 2, 3, 4, 5, 6, 7, 8, 9]\n",
      "[0, 2, 4, 6, 8]\n",
      "[0.0, 1.0, 2.0, 3.0, 4.0, 5.0, 6.0, 7.0, 8.0, 9.0]\n",
      "[0, 1, 4, 9, 16, 25, 36, 49, 64, 81]\n"
     ]
    }
   ],
   "source": [
    "numbers = list(range(10))\n",
    "\n",
    "# paste your solution here:\n",
    "print (numbers)\n",
    "even = filter(lambda item: item % 2 == 0, numbers)\n",
    "print (list(even))\n",
    "\n",
    "def loo(number):\n",
    "  return float(number)\n",
    "\n",
    "loo_numbers = map(loo, numbers)\n",
    "print(list(loo_numbers))\n",
    "\n",
    "def square(number):\n",
    "  return number * number\n",
    "\n",
    "squared_numbers = map(square, numbers)\n",
    "\n",
    "print(list(squared_numbers)) \n"
   ]
  },
  {
   "cell_type": "code",
   "execution_count": null,
   "metadata": {},
   "outputs": [],
   "source": []
  }
 ],
 "metadata": {
  "kernelspec": {
   "display_name": "Python 3",
   "language": "python",
   "name": "python3"
  },
  "language_info": {
   "codemirror_mode": {
    "name": "ipython",
    "version": 3
   },
   "file_extension": ".py",
   "mimetype": "text/x-python",
   "name": "python",
   "nbconvert_exporter": "python",
   "pygments_lexer": "ipython3",
   "version": "3.11.3"
  }
 },
 "nbformat": 4,
 "nbformat_minor": 2
}
