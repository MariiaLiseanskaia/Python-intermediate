{
 "cells": [
  {
   "cell_type": "code",
   "execution_count": 13,
   "metadata": {},
   "outputs": [
    {
     "name": "stdout",
     "output_type": "stream",
     "text": [
      "2\n",
      "[5, 1, 2]\n",
      "the eldeas is 5 yeas old\n"
     ]
    }
   ],
   "source": [
    "class Dog:\n",
    "\n",
    "    species = 'mammal'\n",
    "\n",
    "    def __init__(self, name1, age1):\n",
    "        self.name = name1\n",
    "        self.age = age1\n",
    "\n",
    "    def doginfo(self):\n",
    "        print(self.name + 'is' + str(self.age) + 'years old.')\n",
    "\n",
    "\n",
    "    def speak(self, sound):\n",
    "        return(self.name, sound)\n",
    "    \n",
    "kaia = Dog('Kaia', 5)\n",
    "lino = Dog('Lino', 1)\n",
    "poppy = Dog ('Poppy', 2)\n",
    "print(poppy.age)\n",
    "\n",
    "alldogs = [kaia.age, lino.age, poppy.age]\n",
    "print(alldogs)\n",
    "\n",
    "def get_biggest_number(age):\n",
    "    alldogs = [kaia.age, lino.age, poppy.age]\n",
    "    return(max(age))\n",
    "\n",
    "print('the eldeas is ' +  str(get_biggest_number(alldogs)) + ' yeas old')"
   ]
  },
  {
   "cell_type": "code",
   "execution_count": null,
   "metadata": {},
   "outputs": [],
   "source": []
  }
 ],
 "metadata": {
  "kernelspec": {
   "display_name": "intro-to-python",
   "language": "python",
   "name": "python3"
  },
  "language_info": {
   "codemirror_mode": {
    "name": "ipython",
    "version": 3
   },
   "file_extension": ".py",
   "mimetype": "text/x-python",
   "name": "python",
   "nbconvert_exporter": "python",
   "pygments_lexer": "ipython3",
   "version": "3.11.3"
  }
 },
 "nbformat": 4,
 "nbformat_minor": 2
}
