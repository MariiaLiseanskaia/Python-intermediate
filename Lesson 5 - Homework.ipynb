{
 "cells": [
  {
   "cell_type": "code",
   "execution_count": 35,
   "metadata": {},
   "outputs": [],
   "source": [
    "import numpy as np\n",
    "\n",
    "class Student:\n",
    "\n",
    "    def __init__(self, name1, roll1, marks1, sign1):\n",
    "        self.name = name1\n",
    "        self._roll = roll1\n",
    "        self.marks = marks1\n",
    "        self.sign = sign1\n",
    "\n",
    "    def studentInfo(self):\n",
    "        print('Name:', self.name)\n",
    "        print('Exam marks:', self.marks)\n",
    "\n",
    "\n",
    "    def average(self):\n",
    "        print('Average mark:', np.mean(self.marks))\n",
    "\n",
    "class Exam:\n",
    "    def __init__(self, name2, results2):\n",
    "        self.name = name2\n",
    "        self.results = results2\n",
    "    \n",
    "    def average(self):\n",
    "        examMean = list(self.results.values())\n",
    "        print('Average mark:', np.mean(examMean))\n",
    "    \n",
    "    def examInfo(self):\n",
    "        print('Exam:', self.name)\n",
    "        print('Results:', self.results)\n",
    "    \n",
    "    def adding(self, studentName, mark):\n",
    "        if mark in range(1,100):\n",
    "            self.results[studentName] = mark\n",
    "        else:\n",
    "            print('Mark is invalid')\n",
    "        "
   ]
  },
  {
   "cell_type": "code",
   "execution_count": 36,
   "metadata": {},
   "outputs": [
    {
     "name": "stdout",
     "output_type": "stream",
     "text": [
      "Name: Lisa\n",
      "Exam marks: [85, 12, 92, 63, 44]\n",
      "Average mark: 59.2\n",
      "12\n",
      "Exam: Mathematics\n",
      "Results: {'Karina': 88, 'Lisa': 58}\n",
      "Average mark: 73.0\n"
     ]
    }
   ],
   "source": [
    "lisa = Student('Lisa', 12, [85,12,92,63,44], 'signatureFile')\n",
    "lisa.studentInfo()\n",
    "lisa.average()\n",
    "print(lisa._roll)\n",
    "math = Exam('Mathematics', {'Karina' : 88})\n",
    "math.adding(lisa.name, 58)\n",
    "math.examInfo()\n",
    "math.average()"
   ]
  },
  {
   "cell_type": "code",
   "execution_count": null,
   "metadata": {},
   "outputs": [],
   "source": []
  }
 ],
 "metadata": {
  "kernelspec": {
   "display_name": "intro-to-python",
   "language": "python",
   "name": "python3"
  },
  "language_info": {
   "codemirror_mode": {
    "name": "ipython",
    "version": 3
   },
   "file_extension": ".py",
   "mimetype": "text/x-python",
   "name": "python",
   "nbconvert_exporter": "python",
   "pygments_lexer": "ipython3",
   "version": "3.11.3"
  }
 },
 "nbformat": 4,
 "nbformat_minor": 2
}
